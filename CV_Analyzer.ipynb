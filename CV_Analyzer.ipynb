{
  "nbformat": 4,
  "nbformat_minor": 0,
  "metadata": {
    "colab": {
      "provenance": [],
      "include_colab_link": true
    },
    "kernelspec": {
      "name": "python3",
      "display_name": "Python 3"
    },
    "language_info": {
      "name": "python"
    }
  },
  "cells": [
    {
      "cell_type": "markdown",
      "metadata": {
        "id": "view-in-github",
        "colab_type": "text"
      },
      "source": [
        "<a href=\"https://colab.research.google.com/github/lipikagarg82/CV_Analyzer/blob/main/CV_Analyzer.ipynb\" target=\"_parent\"><img src=\"https://colab.research.google.com/assets/colab-badge.svg\" alt=\"Open In Colab\"/></a>"
      ]
    },
    {
      "cell_type": "code",
      "execution_count": null,
      "metadata": {
        "id": "GyDfkKwPdWUc",
        "colab": {
          "base_uri": "https://localhost:8080/"
        },
        "outputId": "83cfc216-1b10-4d61-82ca-9f245a49c9e1"
      },
      "outputs": [
        {
          "output_type": "stream",
          "name": "stdout",
          "text": [
            "Looking in indexes: https://pypi.org/simple, https://us-python.pkg.dev/colab-wheels/public/simple/\n",
            "Requirement already satisfied: docx2txt in /usr/local/lib/python3.9/dist-packages (0.8)\n"
          ]
        }
      ],
      "source": [
        "!pip install docx2txt\n",
        "import docx2txt"
      ]
    },
    {
      "cell_type": "code",
      "source": [
        "!pip install sklearn"
      ],
      "metadata": {
        "colab": {
          "base_uri": "https://localhost:8080/"
        },
        "id": "MaUksYWmx1Vv",
        "outputId": "c402fbf4-2e2a-452f-c692-c821d768c79e"
      },
      "execution_count": null,
      "outputs": [
        {
          "output_type": "stream",
          "name": "stdout",
          "text": [
            "Looking in indexes: https://pypi.org/simple, https://us-python.pkg.dev/colab-wheels/public/simple/\n",
            "Requirement already satisfied: sklearn in /usr/local/lib/python3.9/dist-packages (0.0.post1)\n"
          ]
        }
      ]
    },
    {
      "cell_type": "markdown",
      "source": [
        "# **Extracting text from doc file**"
      ],
      "metadata": {
        "id": "nb_4FszLmWAA"
      }
    },
    {
      "cell_type": "code",
      "source": [
        "job_description = docx2txt.process('/content/required.docx')\n",
        "resume1 = docx2txt.process('/content/CV1.docx')\n",
        "resume2 = docx2txt.process('/content/CV2.docx')\n",
        "\n"
      ],
      "metadata": {
        "id": "7eikCh8cdoob"
      },
      "execution_count": null,
      "outputs": []
    },
    {
      "cell_type": "code",
      "source": [
        "print(resume1)\n",
        "print(resume2)"
      ],
      "metadata": {
        "colab": {
          "base_uri": "https://localhost:8080/"
        },
        "id": "BCERrcsHyQZZ",
        "outputId": "5db5bd8e-4410-4c7f-d53d-6fb6b6ad9d8f"
      },
      "execution_count": null,
      "outputs": [
        {
          "output_type": "stream",
          "name": "stdout",
          "text": [
            "DA NIEL GA N\n",
            "\n",
            "Front End Developer\n",
            "\n",
            "\n",
            "\n",
            "\n",
            "\n",
            "\n",
            "\n",
            "\n",
            "\n",
            "\n",
            "\n",
            "I N FO\n",
            "\n",
            "\n",
            "\n",
            "ADDRESS\n",
            "\n",
            "9 Wall St, New York, 10005,\n",
            "\n",
            "USA\n",
            "\n",
            "\n",
            "\n",
            "PHONE\n",
            "\n",
            "890-555-0401\n",
            "\n",
            "\n",
            "\n",
            "EMAIL\n",
            "\n",
            "\n",
            "\n",
            "resume@example.com\n",
            "\n",
            "\n",
            "\n",
            "\n",
            "\n",
            "\n",
            "\n",
            "\n",
            "\n",
            "S K I L LS\n",
            "\n",
            "\n",
            "\n",
            "HTML, CSS, JavaScript React, Redux, Angular, JQ... Adobe  Photoshop\n",
            "\n",
            "Clear  communication Highly organized Innovative problem-solving\n",
            "\n",
            "Attention to detail\n",
            "\n",
            "\n",
            "P R O F I L E\n",
            "\n",
            "\n",
            "\n",
            "\n",
            "\n",
            "Innovative Front End Developer with 5 years experience building and maintaining responsive websites  in the recruiting  industry. Proficient in HTML, CSS, J avaScript; plus modern libraries and frameworks. Passionate about usability and possess working knowledge of Adobe  Photoshop.\n",
            "\n",
            "\n",
            "\n",
            "\n",
            "\n",
            "\n",
            "\n",
            "\n",
            "\n",
            "E M P LO Y M E NT  H I ST O R Y\n",
            "\n",
            "\tFront End Developer, TEKsystems\tNew York Oct 2016 - Present\n",
            "\n",
            "\n",
            "\n",
            "TEKsystems is a leading IT staffing, IT talent management and IT services firm. As the Front End Developer, my core activities include:\n",
            "\n",
            "\tCreating new features, functionality and capabilities on the eCommerce sites using Java, Ajax, SAS, and JSON.\n",
            "\n",
            "\tRecommending solutions for a streamlined, user-friendly interface with the design team.\n",
            "\n",
            "\tPerforming bug fixes and code reviews. Technical debt reduced by\n",
            "\n",
            "32% within first month.\n",
            "\n",
            "\tDesigning and implementing HTML email templates and newsletters for marketing campaigns.\n",
            "\n",
            "\tConsulting with 508 Compliance professionals during development\n",
            "\n",
            "of new websites to ensure accessibility.\n",
            "\n",
            "\tEnsuring proper documentation and reports in all stages of product life cycles.\n",
            "\n",
            "\n",
            "\n",
            "\n",
            "\n",
            "\n",
            "\n",
            "Front End Developer, Infinity Consulting Solutions\n",
            "\n",
            "Jul 2013 - Oct 2015\n",
            "\n",
            "\n",
            "New York\n",
            "\n",
            "\n",
            "\n",
            "\n",
            "\n",
            "Infinity Consulting Solutions is a staffing and recruiting agency. As the Front End Developer, my core activities included:\n",
            "\n",
            "\tBuilding stable and maintainable codebases using React.\n",
            "\n",
            "\tImplementing a mobile-first approach to existing websites.\n",
            "\n",
            "\tCollaborating with designers to ensure designs were efficient and technically sound.\n",
            "\n",
            "\tCreating modular, responsive templates using modern CSS techniques and JavaScript libraries.\n",
            "\n",
            "\n",
            "\n",
            "\n",
            "M1nament\n",
            "Claudia Prentice\n",
            "\n",
            "Front End Developer\n",
            "\n",
            "\n",
            "\n",
            "Meticulous web developer with over 2 years of front end experience and passion for responsive website design and a firm believer in the mobile-first approach. W3C certified. Implemented new responsive website approach which increased mobile traffic by 20%.\n",
            "\n",
            "\n",
            "\n",
            "f!l Personal Info\n",
            "\n",
            "\n",
            "0 Experience\n",
            "\n",
            "\n",
            "\n",
            "\n",
            "\n",
            "\n",
            "\n",
            "\n",
            "\n",
            "\n",
            "\n",
            "\n",
            "\n",
            "\n",
            "\n",
            "\n",
            "\n",
            "\n",
            "\n",
            "\n",
            "\n",
            "\n",
            "\n",
            "\n",
            "\n",
            "\n",
            "\n",
            "\n",
            "\n",
            "\n",
            "\n",
            "\n",
            "\n",
            "\n",
            "\n",
            "\n",
            "\n",
            "\n",
            "\n",
            "\n",
            "\n",
            "\n",
            "\n",
            "\n",
            "\n",
            "\n",
            "\n",
            "HyperText Markup Language (HTML)\n",
            "\n",
            "\n",
            "\n",
            "\n",
            "\n",
            "Cascading Style Sheets (CSS)\n",
            "\n",
            "\n",
            "\n",
            "\n",
            "\n",
            "\n",
            "\n",
            "\n",
            "\n",
            "\n",
            "\n",
            "\n",
            "•••\n",
            "\n",
            "Excellent\n",
            "\n",
            "•••\n",
            "\n",
            "Excellent\n",
            "\n",
            "\n",
            "Front End Developer\n",
            "\n",
            "\n",
            "\n",
            "Address\n",
            "\n",
            "2017-02 -\n",
            "\n",
            "3237 Mahlon Street Red Bank, NJ 07701\n",
            "\n",
            "2019-06\n",
            "\n",
            "Phone\n",
            "\n",
            "\n",
            "\n",
            "732-997-3644\n",
            "\n",
            "\n",
            "\n",
            "E-mail\n",
            "\n",
            "\n",
            "\n",
            "claudia.m.prentice@gmail.com\n",
            "\n",
            "\n",
            "\n",
            "LinkedIn\n",
            "\n",
            "\n",
            "\n",
            "linkedin.com/in/claudiaprentice\n",
            "\n",
            "\n",
            "\n",
            "f) Skills\n",
            "\n",
            "\n",
            "\n",
            "Murray Hill Media Group, New York, NY\n",
            "\n",
            "Key Qualifications & Responsibilities\n",
            "\n",
            "\tImplemented websites, mobile applications, and landing pages from concept through deployment.\n",
            "\n",
            "\tStandardized all output with a new, responsive, mobile-first approach and strategy.\n",
            "\n",
            "\tAssessed UX and UI designs for technical feasibility.\n",
            "\n",
            "\tDeveloped standard and ad hoc reports in graph format as required.\n",
            "\n",
            "\tCollaborated with product team members to implement new feature developments.\n",
            "\n",
            "Key Achievements\n",
            "\n",
            "\t\n",
            "\n",
            "eImplemented new responsive, mobile-first approach whiclh increased mobile traffic by 20%.\n",
            "\n",
            "\n",
            "\n",
            "Education\n",
            "\n",
            "\n",
            "\n",
            "Majoring in Web Development\n",
            "\n",
            "Cornell University, New York, NY\n",
            "\n",
            "\n",
            "\n",
            "\n",
            "\n",
            "\n",
            "\n",
            "•••JavaSc ript (JS)\n",
            "\n",
            "Excellent\n",
            "\n",
            "\n",
            "\n",
            "\n",
            "Expected Graduation: 2022\n",
            "\n",
            "Relevant Coursework: Digital Animation, Systems Administration, Website\n",
            "\n",
            "\n",
            "\n",
            "\n",
            "\n",
            "Version Control (e.g., Git, Subversion, Mercurial)\n",
            "\n",
            "\n",
            "\n",
            "\n",
            "\n",
            "Responsive Design & Mobile­ First Websites\n",
            "\n",
            "\n",
            "\n",
            "\n",
            "\n",
            "- Languages\n",
            "\n",
            "\n",
            "••o\n",
            "\n",
            "\n",
            "\n",
            "Advanced\n",
            "\n",
            "••oo\n",
            "\n",
            "Intermediate\n",
            "\n",
            "\n",
            "\n",
            "\n",
            "\n",
            "\n",
            "e\n",
            "\n",
            "2019\n",
            "\n",
            "\n",
            "\n",
            "2018\n",
            "\n",
            "\n",
            "\n",
            "\n",
            "Design, User Experience, Client-Side Development, Vectors, Illustration, Database Administration, Web Page Programming.\n",
            "\n",
            "High School Diploma\n",
            "\n",
            "High School of Math, Science, and Engineering at CCNY\n",
            "\n",
            "New York, New York Graduation:2013\n",
            "\n",
            "\n",
            "\n",
            "Certificates\n",
            "\n",
            "Front End Web Developer Certification by W3C Pluralsight Front End Web Development Certification\n",
            "\n",
            "\n",
            "\n",
            "\n",
            "\n",
            "\n",
            "\n",
            "••••oSpanish\n",
            "\n",
            "Professional Working Proficiency\n",
            "\n",
            "\n",
            "\n",
            "\n",
            "2017\n",
            "\n",
            "\n",
            "\n",
            "\n",
            "Front-End Web UI Frameworks and Tools: Bootstrap 4\n"
          ]
        }
      ]
    },
    {
      "cell_type": "code",
      "source": [
        "content = [job_description, resume1,resume2]\n",
        "from sklearn. feature_extraction.text import CountVectorizer\n",
        "cv = CountVectorizer()\n",
        "matrix = cv.fit_transform(content)"
      ],
      "metadata": {
        "id": "kB1GdeCEwnVc"
      },
      "execution_count": null,
      "outputs": []
    },
    {
      "cell_type": "code",
      "source": [
        "from sklearn.metrics.pairwise import cosine_similarity\n",
        "similarity_matrix = cosine_similarity (matrix)\n",
        "print (similarity_matrix)"
      ],
      "metadata": {
        "id": "jwBI5QMZkRPx",
        "colab": {
          "base_uri": "https://localhost:8080/"
        },
        "outputId": "544e82f5-0742-4686-bb11-9c95398cfdc1"
      },
      "execution_count": null,
      "outputs": [
        {
          "output_type": "stream",
          "name": "stdout",
          "text": [
            "[[1.         0.5116355  0.42287399]\n",
            " [0.5116355  1.         0.54537728]\n",
            " [0.42287399 0.54537728 1.        ]]\n"
          ]
        }
      ]
    },
    {
      "cell_type": "markdown",
      "source": [
        "# **Displaying skill match percentage with job description**"
      ],
      "metadata": {
        "id": "vdlFy71unFx1"
      }
    },
    {
      "cell_type": "code",
      "source": [
        "print('Resume1 matches by:'+str((similarity_matrix[1][0])*100))\n",
        "print('Resume2 matches by:'+str((similarity_matrix[2][0])*100))\n",
        "a = max(similarity_matrix[1][0],similarity_matrix[2][0])*100\n"
      ],
      "metadata": {
        "colab": {
          "base_uri": "https://localhost:8080/"
        },
        "id": "X_BqWm4qsnlJ",
        "outputId": "46746497-b31c-44ee-e63b-0db1af031769"
      },
      "execution_count": null,
      "outputs": [
        {
          "output_type": "stream",
          "name": "stdout",
          "text": [
            "Resume1 matches by:51.163550473024955\n",
            "Resume2 matches by:42.28739938733768\n"
          ]
        }
      ]
    },
    {
      "cell_type": "code",
      "source": [
        "# Resume 1\n",
        "b = (similarity_matrix[1][0])*100\n",
        "# Resume 2\n",
        "c = (similarity_matrix[2][0])*100\n",
        "x = int(b)\n",
        "y = int(c)"
      ],
      "metadata": {
        "id": "0z_VflyKaeVk"
      },
      "execution_count": null,
      "outputs": []
    },
    {
      "cell_type": "markdown",
      "source": [
        "# **Graphical Representaion of percentage of skill matched**"
      ],
      "metadata": {
        "id": "kmTiaujAov2S"
      }
    },
    {
      "cell_type": "code",
      "source": [
        "!pip install matplotlib\n",
        "import matplotlib.pyplot as plt\n",
        "\n",
        "# Setting labels for items in Chart\n",
        "# Resume 1\n",
        "Skills = ['Skills Matched', 'Skills Not Matched']\n",
        "\n",
        "# Setting size in Chart based on\n",
        "# given values\n",
        "Percentage_Matched = [x,100-x]\n",
        "\n",
        "# colors\n",
        "colors = ['#8cf58c', '#f4a864']\n",
        "# explosion\n",
        "explode = (0.05, 0.05)\n",
        "\n",
        "# Pie Chart\n",
        "plt.pie(Percentage_Matched, colors=colors, labels=Skills,\n",
        "        autopct='%1.1f%%', pctdistance=0.85,\n",
        "        explode=explode)\n",
        "\n",
        "# draw circle\n",
        "centre_circle = plt.Circle((0, 0), 0.70, fc='white')\n",
        "fig = plt.gcf()\n",
        "\n",
        "# Adding Circle in Pie chart\n",
        "fig.gca().add_artist(centre_circle)\n",
        "\n",
        "# Adding Title of chart\n",
        "plt.title('Skills Analyzer')\n",
        "\n",
        "# Displaying Chart\n",
        "plt.show()\n",
        "\n",
        "# Resume 2\n",
        "Skills = ['Skills Matched', 'Skills Not Matched']\n",
        "\n",
        "# Setting size in Chart based on\n",
        "# given values\n",
        "Percentage_Matched = [y,100-y]\n",
        "\n",
        "# colors\n",
        "colors = ['#8cf58c', '#f4a864']\n",
        "# explosion\n",
        "explode = (0.05, 0.05)\n",
        "\n",
        "# Pie Chart\n",
        "plt.pie(Percentage_Matched, colors=colors, labels=Skills,\n",
        "        autopct='%1.1f%%', pctdistance=0.85,\n",
        "        explode=explode)\n",
        "\n",
        "# draw circle\n",
        "centre_circle = plt.Circle((0, 0), 0.70, fc='white')\n",
        "fig = plt.gcf()\n",
        "\n",
        "# Adding Circle in Pie chart\n",
        "fig.gca().add_artist(centre_circle)\n",
        "\n",
        "\n",
        "# Displaying Chart\n",
        "plt.show()"
      ],
      "metadata": {
        "colab": {
          "base_uri": "https://localhost:8080/",
          "height": 1000
        },
        "id": "6iPzLzkhzTOc",
        "outputId": "e6082ca9-3fef-4015-ef56-8a7f24d09f34"
      },
      "execution_count": null,
      "outputs": [
        {
          "output_type": "stream",
          "name": "stdout",
          "text": [
            "Looking in indexes: https://pypi.org/simple, https://us-python.pkg.dev/colab-wheels/public/simple/\n",
            "Requirement already satisfied: matplotlib in /usr/local/lib/python3.9/dist-packages (3.7.1)\n",
            "Requirement already satisfied: pyparsing>=2.3.1 in /usr/local/lib/python3.9/dist-packages (from matplotlib) (3.0.9)\n",
            "Requirement already satisfied: kiwisolver>=1.0.1 in /usr/local/lib/python3.9/dist-packages (from matplotlib) (1.4.4)\n",
            "Requirement already satisfied: numpy>=1.20 in /usr/local/lib/python3.9/dist-packages (from matplotlib) (1.22.4)\n",
            "Requirement already satisfied: importlib-resources>=3.2.0 in /usr/local/lib/python3.9/dist-packages (from matplotlib) (5.12.0)\n",
            "Requirement already satisfied: contourpy>=1.0.1 in /usr/local/lib/python3.9/dist-packages (from matplotlib) (1.0.7)\n",
            "Requirement already satisfied: packaging>=20.0 in /usr/local/lib/python3.9/dist-packages (from matplotlib) (23.0)\n",
            "Requirement already satisfied: cycler>=0.10 in /usr/local/lib/python3.9/dist-packages (from matplotlib) (0.11.0)\n",
            "Requirement already satisfied: python-dateutil>=2.7 in /usr/local/lib/python3.9/dist-packages (from matplotlib) (2.8.2)\n",
            "Requirement already satisfied: pillow>=6.2.0 in /usr/local/lib/python3.9/dist-packages (from matplotlib) (8.4.0)\n",
            "Requirement already satisfied: fonttools>=4.22.0 in /usr/local/lib/python3.9/dist-packages (from matplotlib) (4.39.3)\n",
            "Requirement already satisfied: zipp>=3.1.0 in /usr/local/lib/python3.9/dist-packages (from importlib-resources>=3.2.0->matplotlib) (3.15.0)\n",
            "Requirement already satisfied: six>=1.5 in /usr/local/lib/python3.9/dist-packages (from python-dateutil>=2.7->matplotlib) (1.16.0)\n"
          ]
        },
        {
          "output_type": "display_data",
          "data": {
            "text/plain": [
              "<Figure size 640x480 with 1 Axes>"
            ],
            "image/png": "[encoded data removed]"
          },
          "metadata": {}
        },
        {
          "output_type": "display_data",
          "data": {
            "text/plain": [
              "<Figure size 640x480 with 1 Axes>"
            ],
            "image/png": "[encoded data removed]"
          },
          "metadata": {}
        }
      ]
    }
  ]
}